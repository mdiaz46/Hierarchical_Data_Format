{
 "cells": [
  {
   "cell_type": "code",
   "execution_count": 129,
   "id": "89843b65-a826-47c9-bca5-631e7494fd14",
   "metadata": {
    "pycharm": {
     "name": "#%%\n"
    }
   },
   "outputs": [],
   "source": [
    "import h5py\n",
    "import numpy as np\n",
    "# Open a file to read\n",
    "f = h5py.File('/home/jovyan/GNOME/hayward01_20210801_000009.hdf5', 'r')"
   ]
  },
  {
   "cell_type": "code",
   "execution_count": 307,
   "id": "69fde434-2fe6-4417-b1af-277c0de1fefe",
   "metadata": {
    "pycharm": {
     "name": "#%%\n"
    }
   },
   "outputs": [
    {
     "data": {
      "text/plain": [
       "72057594037927939"
      ]
     },
     "execution_count": 307,
     "metadata": {},
     "output_type": "execute_result"
    }
   ],
   "source": [
    "f.id.id"
   ]
  },
  {
   "cell_type": "code",
   "execution_count": 130,
   "id": "ec71b6f6-f3e1-4762-a7d8-378a53815829",
   "metadata": {
    "pycharm": {
     "name": "#%%\n"
    }
   },
   "outputs": [
    {
     "data": {
      "text/plain": [
       "['AuxiliaryMagneticFields',\n",
       " 'CH2',\n",
       " 'CH3',\n",
       " 'Errors',\n",
       " 'ExternalTemperatures',\n",
       " 'InternalTemperatures',\n",
       " 'MagneticFields',\n",
       " 'SanityChannel']"
      ]
     },
     "execution_count": 130,
     "metadata": {},
     "output_type": "execute_result"
    }
   ],
   "source": [
    "# list datasets objects\n",
    "list(f)"
   ]
  },
  {
   "cell_type": "code",
   "execution_count": 306,
   "id": "5c15793b-65e1-48bd-97ab-70fd9df1450e",
   "metadata": {
    "pycharm": {
     "name": "#%%\n"
    }
   },
   "outputs": [
    {
     "name": "stdout",
     "output_type": "stream",
     "text": [
      "AuxiliaryMagneticFields 360287970189639704\n",
      "CH2 360287970189639705\n",
      "CH3 360287970189639706\n",
      "Errors 360287970189639707\n",
      "ExternalTemperatures 360287970189639708\n",
      "InternalTemperatures 360287970189639709\n",
      "MagneticFields 360287970189639710\n",
      "SanityChannel 360287970189639711\n"
     ]
    }
   ],
   "source": [
    "# alternative instead of list()\n",
    "# now the root group has eight dataset objects\n",
    "# we can do a typical Python iteration\n",
    "for x in f:\n",
    "    print(x, f[x].id.id)"
   ]
  },
  {
   "cell_type": "code",
   "execution_count": 308,
   "id": "40c5df8e-5b3e-43c2-920b-41b4a27b1d0b",
   "metadata": {
    "pycharm": {
     "name": "#%%\n"
    }
   },
   "outputs": [
    {
     "data": {
      "text/plain": [
       "dtype('<f8')"
      ]
     },
     "execution_count": 308,
     "metadata": {},
     "output_type": "execute_result"
    }
   ],
   "source": [
    "# You can treat groups like Python dictionaries.\n",
    "# Look up an item by providing the name\n",
    "f[\"MagneticFields\"].dtype"
   ]
  },
  {
   "cell_type": "code",
   "execution_count": 311,
   "id": "ee049fee-35f3-47dd-baad-fc0d46eef9b1",
   "metadata": {
    "pycharm": {
     "name": "#%%\n"
    }
   },
   "outputs": [
    {
     "data": {
      "text/plain": [
       "<HDF5 file \"hayward01_20210801_000009.hdf5\" (mode r)>"
      ]
     },
     "execution_count": 311,
     "metadata": {},
     "output_type": "execute_result"
    }
   ],
   "source": [
    "# every object has a file property that will lead you back to the file\n",
    "# it belongs to (in case you got lost)\n",
    "magneticfields = f[\"MagneticFields\"]\n",
    "magneticfields.file"
   ]
  },
  {
   "cell_type": "code",
   "execution_count": 146,
   "id": "62ac751f-1530-41aa-967a-7b25b5f12fe6",
   "metadata": {
    "pycharm": {
     "name": "#%%\n"
    }
   },
   "outputs": [
    {
     "data": {
      "text/plain": [
       "['DataModel',\n",
       " 'DefaultDataset',\n",
       " 'DefaultMainEquation',\n",
       " 'DefaultMainEquationVarName',\n",
       " 'DefaultMainEquationVersion',\n",
       " 'GNOMEAcquirer_version',\n",
       " 'LocalFileCreationTime']"
      ]
     },
     "execution_count": 146,
     "metadata": {},
     "output_type": "execute_result"
    }
   ],
   "source": [
    "# Each object has an \"attrs\" property that is a dictionary of attributes\n",
    "# attached to the objects\n",
    "list(f.attrs)"
   ]
  },
  {
   "cell_type": "code",
   "execution_count": 131,
   "id": "6f870acd-1f11-441e-a742-b49f2c646384",
   "metadata": {
    "pycharm": {
     "name": "#%%\n"
    }
   },
   "outputs": [],
   "source": [
    "# set variables for each dataset in file\n",
    "dataset0 = f[\"AuxiliaryMagneticFields\"]\n",
    "dataset1 = f[\"CH2\"]\n",
    "dataset2 = f[\"CH3\"]\n",
    "dataset3 = f[\"Errors\"]\n",
    "dataset4 = f[\"ExternalTemperatures\"]\n",
    "dataset5 = f[\"InternalTemperatures\"]\n",
    "dataset6 = f[\"MagneticFields\"]\n",
    "dataset7 = f[\"SanityChannel\"]"
   ]
  },
  {
   "cell_type": "code",
   "execution_count": 154,
   "id": "7cb07e73-2793-4caf-bdd8-a19bc1b6c1f6",
   "metadata": {
    "pycharm": {
     "name": "#%%\n"
    }
   },
   "outputs": [
    {
     "data": {
      "text/plain": [
       "'MagneticFields'"
      ]
     },
     "execution_count": 154,
     "metadata": {},
     "output_type": "execute_result"
    }
   ],
   "source": [
    "# referencing an attribute returns the value, not the \n",
    "# attribute object\n",
    "attr0 = f.attrs[\"DefaultDataset\"]\n",
    "attr0"
   ]
  },
  {
   "cell_type": "code",
   "execution_count": 155,
   "id": "62e05b96-26a5-49a1-b39c-b50aa50e193e",
   "metadata": {
    "pycharm": {
     "name": "#%%\n"
    }
   },
   "outputs": [
    {
     "data": {
      "text/plain": [
       "'MagFieldEq'"
      ]
     },
     "execution_count": 155,
     "metadata": {},
     "output_type": "execute_result"
    }
   ],
   "source": [
    "# referencing an attribute returns the value, not the \n",
    "# attribute object\n",
    "attr1 = f.attrs[\"DefaultMainEquation\"]\n",
    "attr1"
   ]
  },
  {
   "cell_type": "code",
   "execution_count": 103,
   "id": "11189a54-5e2f-4ef2-a7c2-9ec79ac4ac2d",
   "metadata": {
    "pycharm": {
     "name": "#%%\n"
    }
   },
   "outputs": [],
   "source": [
    "import pandas as pd\n",
    "dataframe = pd.DataFrame(dataset[:])"
   ]
  },
  {
   "cell_type": "code",
   "execution_count": 47,
   "id": "9a5d156b-94c9-4c26-8332-dd6774eaa831",
   "metadata": {
    "pycharm": {
     "name": "#%%\n"
    }
   },
   "outputs": [],
   "source": [
    "# convert numpy result to Pandas dataframe\n",
    "dataframe = pd.DataFrame(dataset[-12:])"
   ]
  },
  {
   "cell_type": "code",
   "execution_count": 160,
   "id": "2b8be9c9-94ba-4b1f-8ecb-7b5be8fa7f1f",
   "metadata": {
    "pycharm": {
     "name": "#%%\n"
    }
   },
   "outputs": [
    {
     "data": {
      "text/plain": [
       "['Altitude',\n",
       " 'ChannelRange',\n",
       " 'Date',\n",
       " 'Latitude',\n",
       " 'Longitude',\n",
       " 'MagFieldEq',\n",
       " 'MissingPoints',\n",
       " 'SamplingRate(Hz)',\n",
       " 'SensorDirAltitude(Deg)',\n",
       " 'SensorDirAzimuth(Deg)',\n",
       " 'SensorType',\n",
       " 'Units',\n",
       " 't0',\n",
       " 't1']"
      ]
     },
     "execution_count": 160,
     "metadata": {},
     "output_type": "execute_result"
    }
   ],
   "source": [
    "list(dataset6.attrs)"
   ]
  },
  {
   "cell_type": "code",
   "execution_count": 167,
   "id": "a839b999-a278-4172-8819-2e3cc5163e72",
   "metadata": {
    "pycharm": {
     "name": "#%%\n"
    }
   },
   "outputs": [
    {
     "data": {
      "text/plain": [
       "512.0"
      ]
     },
     "execution_count": 167,
     "metadata": {},
     "output_type": "execute_result"
    }
   ],
   "source": [
    "sr_value = dataset6.attrs['SamplingRate(Hz)']\n",
    "sr_value"
   ]
  },
  {
   "cell_type": "code",
   "execution_count": 170,
   "id": "8cef4ed7-b4c6-4c82-beb1-5694418835b3",
   "metadata": {
    "pycharm": {
     "name": "#%%\n"
    }
   },
   "outputs": [
    {
     "data": {
      "text/plain": [
       "'00:00:09.000000'"
      ]
     },
     "execution_count": 170,
     "metadata": {},
     "output_type": "execute_result"
    }
   ],
   "source": [
    "t0_value = dataset6.attrs['t0']\n",
    "t0_value "
   ]
  },
  {
   "cell_type": "code",
   "execution_count": 171,
   "id": "7d3c72a7-d1fd-4648-a9a2-b034c20d2f5d",
   "metadata": {
    "pycharm": {
     "name": "#%%\n"
    }
   },
   "outputs": [
    {
     "data": {
      "text/plain": [
       "'00:01:09.000000'"
      ]
     },
     "execution_count": 171,
     "metadata": {},
     "output_type": "execute_result"
    }
   ],
   "source": [
    "t1_value = dataset6.attrs['t1']\n",
    "t1_value"
   ]
  },
  {
   "cell_type": "code",
   "execution_count": 172,
   "id": "345265ae-70a7-4ac4-aefc-9b12f692084c",
   "metadata": {
    "pycharm": {
     "name": "#%%\n"
    }
   },
   "outputs": [
    {
     "data": {
      "text/plain": [
       "'2021/08/01'"
      ]
     },
     "execution_count": 172,
     "metadata": {},
     "output_type": "execute_result"
    }
   ],
   "source": [
    "date_value = dataset6.attrs['Date']\n",
    "date_value"
   ]
  },
  {
   "cell_type": "code",
   "execution_count": 175,
   "id": "66a0bd4c-7c90-4ef1-8bd2-7aef171edff2",
   "metadata": {
    "pycharm": {
     "name": "#%%\n"
    }
   },
   "outputs": [
    {
     "data": {
      "text/plain": [
       "'120*MagneticFields[pT]'"
      ]
     },
     "execution_count": 175,
     "metadata": {},
     "output_type": "execute_result"
    }
   ],
   "source": [
    "magfieldeq_value = dataset6.attrs['MagFieldEq']\n",
    "magfieldeq_value"
   ]
  },
  {
   "cell_type": "code",
   "execution_count": 176,
   "id": "106dac8c-a776-4ca7-bd4c-3499f50522c4",
   "metadata": {
    "pycharm": {
     "name": "#%%\n"
    }
   },
   "outputs": [
    {
     "data": {
      "text/plain": [
       "(30720,)"
      ]
     },
     "execution_count": 176,
     "metadata": {},
     "output_type": "execute_result"
    }
   ],
   "source": [
    "dataset6.shape"
   ]
  },
  {
   "cell_type": "code",
   "execution_count": 185,
   "id": "dc1ed50f-c241-4e6a-8ab1-cadc296ada64",
   "metadata": {
    "pycharm": {
     "name": "#%%\n"
    }
   },
   "outputs": [
    {
     "name": "stdout",
     "output_type": "stream",
     "text": [
      "CPU times: user 0 ns, sys: 2.3 ms, total: 2.3 ms\n",
      "Wall time: 1.29 ms\n"
     ]
    }
   ],
   "source": [
    "%time data = dataset6[:]"
   ]
  },
  {
   "cell_type": "code",
   "execution_count": 186,
   "id": "d86687d6-897c-4f59-9bc2-877d4266e2e1",
   "metadata": {
    "pycharm": {
     "name": "#%%\n"
    }
   },
   "outputs": [
    {
     "data": {
      "text/plain": [
       "array([-0.4361, -0.4144, -0.3921, ..., -0.4373, -0.4181, -0.397 ])"
      ]
     },
     "execution_count": 186,
     "metadata": {},
     "output_type": "execute_result"
    }
   ],
   "source": [
    "# MagneticFields array values\n",
    "data"
   ]
  },
  {
   "cell_type": "code",
   "execution_count": 238,
   "id": "86620c90-9250-4ea0-8def-d4bf80de8558",
   "metadata": {
    "pycharm": {
     "name": "#%%\n"
    }
   },
   "outputs": [],
   "source": [
    "# new values = 120*MagneticFields\n",
    "new_data = 120*data"
   ]
  },
  {
   "cell_type": "code",
   "execution_count": 239,
   "id": "2ec4c6aa-1f95-424b-9e6b-af73473b9585",
   "metadata": {
    "pycharm": {
     "name": "#%%\n"
    }
   },
   "outputs": [
    {
     "data": {
      "text/plain": [
       "array([-52.332, -49.728, -47.052, ..., -52.476, -50.172, -47.64 ])"
      ]
     },
     "execution_count": 239,
     "metadata": {},
     "output_type": "execute_result"
    }
   ],
   "source": [
    "new_data"
   ]
  },
  {
   "cell_type": "code",
   "execution_count": 241,
   "id": "31732781-03f6-4e49-8bcf-0d3e5ca5fd61",
   "metadata": {
    "pycharm": {
     "name": "#%%\n"
    }
   },
   "outputs": [
    {
     "data": {
      "text/plain": [
       "30720"
      ]
     },
     "execution_count": 241,
     "metadata": {},
     "output_type": "execute_result"
    }
   ],
   "source": [
    "len(new_data)"
   ]
  },
  {
   "cell_type": "code",
   "execution_count": 232,
   "id": "6a330a8f-8570-4888-88cb-1ec7dc563de4",
   "metadata": {
    "pycharm": {
     "name": "#%%\n"
    }
   },
   "outputs": [
    {
     "name": "stdout",
     "output_type": "stream",
     "text": [
      "CPU times: user 14 µs, sys: 0 ns, total: 14 µs\n",
      "Wall time: 20 µs\n"
     ]
    }
   ],
   "source": [
    "start_index = 0\n",
    "end_index = 1920   # set end_index to value between 1 an 7850\n",
    "%time tseries = new_data[start_index:end_index]"
   ]
  },
  {
   "cell_type": "code",
   "execution_count": 277,
   "id": "fe1263af-abd1-496b-b918-6f542a689534",
   "metadata": {
    "pycharm": {
     "name": "#%%\n"
    }
   },
   "outputs": [
    {
     "data": {
      "image/png": "[encoded data removed]",
      "text/plain": [
       "<Plot size 864x432 with 1 Axes>"
      ]
     },
     "metadata": {
      "needs_background": "light"
     },
     "output_type": "display_data"
    }
   ],
   "source": [
    "from gwpy.plot import Plot\n",
    "plot = Plot(tseries, figsize=[12, 6],color='gwpy:ligo-livingston')\n",
    "ax1 = plot.axes\n",
    "plot.show()"
   ]
  },
  {
   "cell_type": "code",
   "execution_count": 278,
   "id": "44858190-613b-44af-a341-ab227d7ecfb1",
   "metadata": {
    "pycharm": {
     "name": "#%%\n"
    }
   },
   "outputs": [],
   "source": [
    "from scipy.fftpack import fft, ifft\n",
    "\n",
    "# Set fast fourier transform on hfilt\n",
    "fft_tseries = fft(tseries)"
   ]
  },
  {
   "cell_type": "code",
   "execution_count": 279,
   "id": "3b7e4897-cb98-4dd6-bada-7ecbf8690e5e",
   "metadata": {
    "pycharm": {
     "name": "#%%\n"
    }
   },
   "outputs": [
    {
     "name": "stdout",
     "output_type": "stream",
     "text": [
      "Frequency Domain\n",
      "[-1.84584094e+02-0.j          6.17089762e-02-0.06987297j\n",
      " -2.89075472e-02+0.01261513j ... -6.01694111e-02+0.00253084j\n",
      " -2.89075472e-02-0.01261513j  6.17089762e-02+0.06987297j]\n",
      "Notice The FFT returns a two-sided spectrum in complex form (real and imaginary parts).\n"
     ]
    }
   ],
   "source": [
    "print('Frequency Domain')\n",
    "print(fft_tseries)\n",
    "print('Notice The FFT returns a two-sided spectrum in complex form (real and imaginary parts).')"
   ]
  },
  {
   "cell_type": "code",
   "execution_count": 280,
   "id": "ba2a0ce9-4de2-48ca-9a34-3f6def5a01e5",
   "metadata": {
    "pycharm": {
     "name": "#%%\n"
    }
   },
   "outputs": [
    {
     "data": {
      "text/plain": [
       "1920"
      ]
     },
     "execution_count": 280,
     "metadata": {},
     "output_type": "execute_result"
    }
   ],
   "source": [
    "len(fft_tseries)"
   ]
  },
  {
   "cell_type": "code",
   "execution_count": 281,
   "id": "3c4cdf06-fc0b-4330-8886-8fd0c153d2ee",
   "metadata": {
    "pycharm": {
     "name": "#%%\n"
    }
   },
   "outputs": [
    {
     "name": "stdout",
     "output_type": "stream",
     "text": [
      "The amplitude of the FFT is related to the number of points in the time-domain signal\n"
     ]
    },
    {
     "data": {
      "image/png": "[encoded data removed]",
      "text/plain": [
       "<Plot size 1440x432 with 1 Axes>"
      ]
     },
     "metadata": {
      "needs_background": "light"
     },
     "output_type": "display_data"
    }
   ],
   "source": [
    "from gwpy.plot import Plot\n",
    "import matplotlib.pyplot as plt\n",
    "\n",
    "plot2 = Plot(np.abs(fft_tseries), figsize=[20, 6],\n",
    "            color='gwpy:ligo-livingston')\n",
    "plt.xlabel('Freq (Hz)')\n",
    "plt.ylabel('FFT Amplitude |filtered_data(freq)|')\n",
    "plot2.show()\n",
    "print('The amplitude of the FFT is related to the number of points in the time-domain signal')"
   ]
  },
  {
   "cell_type": "code",
   "execution_count": null,
   "id": "dded8262-c6a2-4dd9-bac6-bc522b8e935c",
   "metadata": {
    "pycharm": {
     "name": "#%%\n"
    }
   },
   "outputs": [],
   "source": []
  }
 ],
 "metadata": {
  "kernelspec": {
   "display_name": "Python 3",
   "language": "python",
   "name": "python3"
  },
  "language_info": {
   "codemirror_mode": {
    "name": "ipython",
    "version": 3
   },
   "file_extension": ".py",
   "mimetype": "text/x-python",
   "name": "python",
   "nbconvert_exporter": "python",
   "pygments_lexer": "ipython3",
   "version": "3.9.2"
  }
 },
 "nbformat": 4,
 "nbformat_minor": 5
}